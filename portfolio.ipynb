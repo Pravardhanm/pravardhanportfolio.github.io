{
 "cells": [
  {
   "cell_type": "code",
   "execution_count": null,
   "metadata": {},
   "outputs": [],
   "source": []
  }
 ],
 "metadata": {
  "kernelspec": {
   "display_name": "base",
   "language": "python",
   "name": "python3"
  },
  "language_info": {
   "name": "python",
   "version": "3.9.7 (default, Sep 16 2021, 16:59:28) [MSC v.1916 64 bit (AMD64)]"
  },
  "orig_nbformat": 4,
  "vscode": {
   "interpreter": {
    "hash": "90b1026fdbbb3b5e40ab39a19710c562cdda3dd37c38fd23f94d2437e01be1fa"
   }
  }
 },
 "nbformat": 4,
 "nbformat_minor": 2
}
